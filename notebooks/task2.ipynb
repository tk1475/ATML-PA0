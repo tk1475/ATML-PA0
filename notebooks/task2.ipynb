{
  "cells": [
    {
      "cell_type": "markdown",
      "id": "709c0f11",
      "metadata": {
        "id": "709c0f11"
      },
      "source": [
        "# 2.1"
      ]
    },
    {
      "cell_type": "markdown",
      "source": [
        "Imports\n"
      ],
      "metadata": {
        "id": "VH7lWIRcJgx6"
      },
      "id": "VH7lWIRcJgx6"
    },
    {
      "cell_type": "code",
      "execution_count": null,
      "id": "154a81da",
      "metadata": {
        "vscode": {
          "languageId": "plaintext"
        },
        "id": "154a81da"
      },
      "outputs": [],
      "source": [
        "import torch\n",
        "from transformers import AutoImageProcessor, AutoModelForImageClassification\n",
        "from PIL import Image\n",
        "import requests\n",
        "import matplotlib.pyplot as plt\n"
      ]
    },
    {
      "cell_type": "markdown",
      "source": [
        "## 1. Load Pretrained ViT (ImageNet-1k pretrained)\n"
      ],
      "metadata": {
        "id": "4knnK1RSJnpx"
      },
      "id": "4knnK1RSJnpx"
    },
    {
      "cell_type": "code",
      "source": [
        "model_name = \"google/vit-base-patch16-224\"\n",
        "processor = AutoImageProcessor.from_pretrained(model_name)\n",
        "model = AutoModelForImageClassification.from_pretrained(model_name)\n"
      ],
      "metadata": {
        "id": "C6fMpsonJf2Z"
      },
      "id": "C6fMpsonJf2Z",
      "execution_count": null,
      "outputs": []
    }
  ],
  "metadata": {
    "language_info": {
      "name": "python"
    },
    "colab": {
      "provenance": [],
      "gpuType": "T4"
    },
    "kernelspec": {
      "name": "python3",
      "display_name": "Python 3"
    },
    "accelerator": "GPU"
  },
  "nbformat": 4,
  "nbformat_minor": 5
}