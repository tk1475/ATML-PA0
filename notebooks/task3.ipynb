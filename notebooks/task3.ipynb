{
  "cells": [
    {
      "cell_type": "markdown",
      "source": [
        "# 3.1: Baseline GAN on MNIST"
      ],
      "metadata": {
        "id": "yMFqOQ2VkaVQ"
      },
      "id": "yMFqOQ2VkaVQ"
    },
    {
      "cell_type": "code",
      "execution_count": 1,
      "id": "b5a6035b",
      "metadata": {
        "id": "b5a6035b"
      },
      "outputs": [],
      "source": [
        "import os\n",
        "import torch\n",
        "import torch.nn as nn\n",
        "import torch.optim as optim\n",
        "from torchvision import datasets, transforms, utils\n",
        "from torch.utils.data import DataLoader\n",
        "import matplotlib.pyplot as plt\n",
        "import numpy as np\n",
        "\n",
        "device = torch.device(\"cuda\" if torch.cuda.is_available() else \"cpu\")\n",
        "os.makedirs(\"out_gan\", exist_ok=True)"
      ]
    },
    {
      "cell_type": "markdown",
      "source": [
        "### Models"
      ],
      "metadata": {
        "id": "NfDgZKHekgcV"
      },
      "id": "NfDgZKHekgcV"
    },
    {
      "cell_type": "code",
      "source": [
        "class Generator(nn.Module):\n",
        "    def __init__(self, z_dim=100):\n",
        "        super().__init__()\n",
        "        self.net = nn.Sequential(\n",
        "            nn.Linear(z_dim, 256),\n",
        "            nn.ReLU(True),\n",
        "            nn.BatchNorm1d(256),\n",
        "            nn.Linear(256, 512),\n",
        "            nn.ReLU(True),\n",
        "            nn.BatchNorm1d(512),\n",
        "            nn.Linear(512, 784),\n",
        "            nn.Tanh()\n",
        "        )\n",
        "    def forward(self, z):\n",
        "        return self.net(z).view(-1, 1, 28, 28)\n",
        "\n",
        "class Discriminator(nn.Module):\n",
        "    def __init__(self):\n",
        "        super().__init__()\n",
        "        self.net = nn.Sequential(\n",
        "            nn.Linear(784, 256),\n",
        "            nn.LeakyReLU(0.2, inplace=True),\n",
        "            nn.Linear(256, 256),\n",
        "            nn.LeakyReLU(0.2, inplace=True),\n",
        "            nn.Linear(256, 1),\n",
        "            nn.Sigmoid()\n",
        "        )\n",
        "    def forward(self, x):\n",
        "        return self.net(x.view(-1, 784)).squeeze(1)\n"
      ],
      "metadata": {
        "id": "zErsK3vhkSPM"
      },
      "id": "zErsK3vhkSPM",
      "execution_count": 2,
      "outputs": []
    },
    {
      "cell_type": "markdown",
      "source": [
        "Weights init"
      ],
      "metadata": {
        "id": "2sAYUhZWkvpN"
      },
      "id": "2sAYUhZWkvpN"
    },
    {
      "cell_type": "code",
      "source": [
        "def weights_init_normal(m):\n",
        "    if isinstance(m, nn.Linear):\n",
        "        nn.init.normal_(m.weight.data, 0.0, 0.02)\n",
        "        if m.bias is not None:\n",
        "            nn.init.constant_(m.bias.data, 0.0)"
      ],
      "metadata": {
        "id": "NQ6kHuGDkW6C"
      },
      "id": "NQ6kHuGDkW6C",
      "execution_count": 3,
      "outputs": []
    },
    {
      "cell_type": "markdown",
      "source": [
        "Dataset"
      ],
      "metadata": {
        "id": "yyZJwt-6k0jr"
      },
      "id": "yyZJwt-6k0jr"
    },
    {
      "cell_type": "code",
      "source": [
        "transform = transforms.Compose([\n",
        "    transforms.ToTensor(),\n",
        "    transforms.Normalize((0.5,), (0.5,))\n",
        "])\n",
        "train_ds = datasets.MNIST(\"./data\", train=True, download=True, transform=transform)\n",
        "loader = DataLoader(train_ds, batch_size=64, shuffle=True)"
      ],
      "metadata": {
        "id": "70t-ZnDLkxcH",
        "outputId": "931153c6-d96b-4179-dfb6-5150e455d749",
        "colab": {
          "base_uri": "https://localhost:8080/"
        }
      },
      "id": "70t-ZnDLkxcH",
      "execution_count": 4,
      "outputs": [
        {
          "output_type": "stream",
          "name": "stderr",
          "text": [
            "100%|██████████| 9.91M/9.91M [00:00<00:00, 11.4MB/s]\n",
            "100%|██████████| 28.9k/28.9k [00:00<00:00, 337kB/s]\n",
            "100%|██████████| 1.65M/1.65M [00:00<00:00, 2.73MB/s]\n",
            "100%|██████████| 4.54k/4.54k [00:00<00:00, 7.01MB/s]\n"
          ]
        }
      ]
    },
    {
      "cell_type": "markdown",
      "source": [
        "### Init models + optim\n"
      ],
      "metadata": {
        "id": "lLXu5uUslBuT"
      },
      "id": "lLXu5uUslBuT"
    },
    {
      "cell_type": "code",
      "source": [
        "z_dim = 100\n",
        "G = Generator(z_dim).to(device)\n",
        "D = Discriminator().to(device)\n",
        "G.apply(weights_init_normal)\n",
        "D.apply(weights_init_normal)\n",
        "\n",
        "optG = optim.Adam(G.parameters(), lr=2e-4, betas=(0.5, 0.999))\n",
        "optD = optim.Adam(D.parameters(), lr=2e-4, betas=(0.5, 0.999))\n",
        "criterion = nn.BCELoss()\n",
        "\n",
        "# Fixed noise for monitoring\n",
        "fixed_noise = torch.randn(25, z_dim, device=device)\n"
      ],
      "metadata": {
        "id": "cNqI7gfDk2Ql"
      },
      "id": "cNqI7gfDk2Ql",
      "execution_count": 5,
      "outputs": []
    },
    {
      "cell_type": "markdown",
      "source": [
        "## Training loop : alongside progress tracking and outputting data"
      ],
      "metadata": {
        "id": "dSqpLWBClu7O"
      },
      "id": "dSqpLWBClu7O"
    },
    {
      "cell_type": "code",
      "source": [
        "epochs = 20\n",
        "G_losses, D_losses = [], []\n",
        "\n",
        "for epoch in range(epochs):\n",
        "    for real_imgs, _ in loader:\n",
        "        bs = real_imgs.size(0)\n",
        "        real_imgs = real_imgs.to(device)\n",
        "\n",
        "        # ----------------- Train D -----------------\n",
        "        optD.zero_grad()\n",
        "        real_labels = torch.ones(bs, device=device)\n",
        "        fake_labels = torch.zeros(bs, device=device)\n",
        "\n",
        "        out_real = D(real_imgs)\n",
        "        loss_real = criterion(out_real, real_labels)\n",
        "\n",
        "        noise = torch.randn(bs, z_dim, device=device)\n",
        "        fake_imgs = G(noise).detach()\n",
        "        out_fake = D(fake_imgs)\n",
        "        loss_fake = criterion(out_fake, fake_labels)\n",
        "\n",
        "        loss_D = loss_real + loss_fake\n",
        "        loss_D.backward()\n",
        "        optD.step()\n",
        "\n",
        "        # ----------------- Train G -----------------\n",
        "        optG.zero_grad()\n",
        "        noise = torch.randn(bs, z_dim, device=device)\n",
        "        fake_imgs = G(noise)\n",
        "        out_fake = D(fake_imgs)\n",
        "        loss_G = criterion(out_fake, real_labels)  # non-saturating trick\n",
        "        loss_G.backward()\n",
        "        optG.step()\n",
        "\n",
        "        D_losses.append(loss_D.item())\n",
        "        G_losses.append(loss_G.item())\n",
        "\n",
        "    # Save samples each epoch\n",
        "    with torch.no_grad():\n",
        "        samples = G(fixed_noise).cpu()\n",
        "    utils.save_image(samples, f\"out_gan/epoch_{epoch+1:03d}.png\", nrow=5, normalize=True, value_range=(-1,1))\n",
        "\n",
        "    print(f\"Epoch [{epoch+1}/{epochs}]  Loss D: {loss_D.item():.4f}, Loss G: {loss_G.item():.4f}\")\n",
        "\n"
      ],
      "metadata": {
        "id": "R7wFihF7lFJ3",
        "outputId": "6266e736-e9c3-470c-c912-cc004290b914",
        "colab": {
          "base_uri": "https://localhost:8080/"
        }
      },
      "id": "R7wFihF7lFJ3",
      "execution_count": 6,
      "outputs": [
        {
          "output_type": "stream",
          "name": "stdout",
          "text": [
            "Epoch [1/20]  Loss D: 1.3914, Loss G: 1.1854\n",
            "Epoch [2/20]  Loss D: 1.3468, Loss G: 1.0576\n",
            "Epoch [3/20]  Loss D: 1.2414, Loss G: 0.8374\n",
            "Epoch [4/20]  Loss D: 1.4047, Loss G: 0.6179\n",
            "Epoch [5/20]  Loss D: 1.4096, Loss G: 0.6878\n",
            "Epoch [6/20]  Loss D: 1.3936, Loss G: 0.7626\n",
            "Epoch [7/20]  Loss D: 1.3721, Loss G: 0.7763\n",
            "Epoch [8/20]  Loss D: 1.2986, Loss G: 0.8043\n",
            "Epoch [9/20]  Loss D: 1.3606, Loss G: 1.0749\n",
            "Epoch [10/20]  Loss D: 1.3343, Loss G: 0.7902\n",
            "Epoch [11/20]  Loss D: 1.2832, Loss G: 0.8116\n",
            "Epoch [12/20]  Loss D: 1.3777, Loss G: 0.8109\n",
            "Epoch [13/20]  Loss D: 1.3129, Loss G: 0.8291\n",
            "Epoch [14/20]  Loss D: 1.3835, Loss G: 0.8401\n",
            "Epoch [15/20]  Loss D: 1.3051, Loss G: 0.6909\n",
            "Epoch [16/20]  Loss D: 1.3718, Loss G: 0.8340\n",
            "Epoch [17/20]  Loss D: 1.2598, Loss G: 0.7587\n",
            "Epoch [18/20]  Loss D: 1.2222, Loss G: 0.7784\n",
            "Epoch [19/20]  Loss D: 1.3512, Loss G: 0.9228\n",
            "Epoch [20/20]  Loss D: 1.2242, Loss G: 0.8158\n"
          ]
        }
      ]
    },
    {
      "cell_type": "markdown",
      "source": [
        "### Save loss curves\n"
      ],
      "metadata": {
        "id": "sGdnheOAl3DO"
      },
      "id": "sGdnheOAl3DO"
    },
    {
      "cell_type": "code",
      "source": [
        "\n",
        "plt.figure(figsize=(8,4))\n",
        "plt.plot(G_losses, label=\"G loss\")\n",
        "plt.plot(D_losses, label=\"D loss\")\n",
        "plt.legend()\n",
        "plt.title(\"Loss curves (baseline GAN)\")\n",
        "plt.savefig(\"out_gan/losses.png\", bbox_inches=\"tight\")\n",
        "plt.show()"
      ],
      "metadata": {
        "id": "CeegFmO1lLak",
        "outputId": "af67fa73-fcb6-4951-a917-b4674dd2e1bb",
        "colab": {
          "base_uri": "https://localhost:8080/",
          "height": 391
        }
      },
      "id": "CeegFmO1lLak",
      "execution_count": 7,
      "outputs": [
        {
          "output_type": "display_data",
          "data": {
            "text/plain": [
              "<Figure size 800x400 with 1 Axes>"
            ],
            "image/png": "[encoded data removed]"
          },
          "metadata": {}
        }
      ]
    }
  ],
  "metadata": {
    "language_info": {
      "name": "python"
    },
    "colab": {
      "provenance": [],
      "gpuType": "T4"
    },
    "accelerator": "GPU",
    "kernelspec": {
      "name": "python3",
      "display_name": "Python 3"
    }
  },
  "nbformat": 4,
  "nbformat_minor": 5
}