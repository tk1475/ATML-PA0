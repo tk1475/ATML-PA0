{
  "cells": [
    {
      "cell_type": "markdown",
      "metadata": {
        "id": "view-in-github",
        "colab_type": "text"
      },
      "source": [
        "<a href=\"https://colab.research.google.com/github/tk1475/ATML-PA0/blob/master/notebooks/task1.ipynb\" target=\"_parent\"><img src=\"https://colab.research.google.com/assets/colab-badge.svg\" alt=\"Open In Colab\"/></a>"
      ]
    },
    {
      "cell_type": "markdown",
      "source": [],
      "metadata": {
        "id": "swOMYV9XrngX"
      },
      "id": "swOMYV9XrngX"
    },
    {
      "cell_type": "code",
      "execution_count": 8,
      "id": "cb224c7f",
      "metadata": {
        "id": "cb224c7f"
      },
      "outputs": [],
      "source": [
        "import torch\n",
        "import torch.nn as nn\n",
        "import torch.optim as optim\n",
        "import torchvision\n",
        "import torchvision.transforms as transforms\n",
        "from torchvision import models\n",
        "import matplotlib.pyplot as plt"
      ]
    },
    {
      "cell_type": "markdown",
      "source": [
        "# Baseline Setup\n"
      ],
      "metadata": {
        "id": "nrvLbNjnrou8"
      },
      "id": "nrvLbNjnrou8"
    },
    {
      "cell_type": "markdown",
      "source": [
        "#### 1. Configurations\n"
      ],
      "metadata": {
        "id": "w21YNfqXnOdD"
      },
      "id": "w21YNfqXnOdD"
    },
    {
      "cell_type": "code",
      "source": [
        "device = torch.device(\"cuda\" if torch.cuda.is_available() else \"cpu\")\n",
        "batch_size = 32\n",
        "num_epochs = 3\n",
        "learning_rate = 0.001"
      ],
      "metadata": {
        "id": "b5SPuYsSnM4V"
      },
      "id": "b5SPuYsSnM4V",
      "execution_count": 9,
      "outputs": []
    },
    {
      "cell_type": "markdown",
      "source": [
        "#### 2. CIFAR-10 Dataset\n"
      ],
      "metadata": {
        "id": "Fi9GTt2KnTp5"
      },
      "id": "Fi9GTt2KnTp5"
    },
    {
      "cell_type": "code",
      "source": [
        "transform = transforms.Compose([\n",
        "    transforms.Resize(224),   # ResNet expects 224x224\n",
        "    transforms.ToTensor(),\n",
        "    transforms.Normalize((0.5, 0.5, 0.5), (0.5, 0.5, 0.5))\n",
        "])\n",
        "\n",
        "trainset = torchvision.datasets.CIFAR10(root='./data', train=True,\n",
        "                                        download=True, transform=transform)\n",
        "trainloader = torch.utils.data.DataLoader(trainset, batch_size=batch_size,\n",
        "                                          shuffle=True, num_workers=2)\n",
        "\n",
        "testset = torchvision.datasets.CIFAR10(root='./data', train=False,\n",
        "                                       download=True, transform=transform)\n",
        "testloader = torch.utils.data.DataLoader(testset, batch_size=batch_size,\n",
        "                                         shuffle=False, num_workers=2)\n",
        "\n",
        "classes = trainset.classes\n"
      ],
      "metadata": {
        "id": "QANTlEMYnTyn"
      },
      "id": "QANTlEMYnTyn",
      "execution_count": 10,
      "outputs": []
    },
    {
      "cell_type": "markdown",
      "source": [
        "#### 3. Load Pre-trained ResNet-152 + Loss and Optimizer\n"
      ],
      "metadata": {
        "id": "5YtPNhYXncWf"
      },
      "id": "5YtPNhYXncWf"
    },
    {
      "cell_type": "code",
      "source": [
        "model = models.resnet152(pretrained=True)\n",
        "\n",
        "# Freeze all layers\n",
        "for param in model.parameters():\n",
        "    param.requires_grad = False\n",
        "\n",
        "# Replace the final classification layer\n",
        "num_features = model.fc.in_features\n",
        "model.fc = nn.Linear(num_features, 10)  # CIFAR-10 has 10 classes\n",
        "\n",
        "model = model.to(device)\n",
        "\n",
        "criterion = nn.CrossEntropyLoss()\n",
        "optimizer = optim.Adam(model.fc.parameters(), lr=learning_rate)"
      ],
      "metadata": {
        "id": "XnnokWOSncfg",
        "outputId": "59a7dec0-55c3-4de5-8515-d1172d2b3c40",
        "colab": {
          "base_uri": "https://localhost:8080/"
        }
      },
      "id": "XnnokWOSncfg",
      "execution_count": 11,
      "outputs": [
        {
          "output_type": "stream",
          "name": "stderr",
          "text": [
            "/usr/local/lib/python3.12/dist-packages/torchvision/models/_utils.py:208: UserWarning: The parameter 'pretrained' is deprecated since 0.13 and may be removed in the future, please use 'weights' instead.\n",
            "  warnings.warn(\n",
            "/usr/local/lib/python3.12/dist-packages/torchvision/models/_utils.py:223: UserWarning: Arguments other than a weight enum or `None` for 'weights' are deprecated since 0.13 and may be removed in the future. The current behavior is equivalent to passing `weights=ResNet152_Weights.IMAGENET1K_V1`. You can also use `weights=ResNet152_Weights.DEFAULT` to get the most up-to-date weights.\n",
            "  warnings.warn(msg)\n"
          ]
        }
      ]
    },
    {
      "cell_type": "markdown",
      "source": [
        "#### 4. Training Loop\n"
      ],
      "metadata": {
        "id": "MUwK02Bfnj36"
      },
      "id": "MUwK02Bfnj36"
    },
    {
      "cell_type": "code",
      "source": [
        "train_acc_hist, val_acc_hist = [], []\n",
        "\n",
        "for epoch in range(num_epochs):\n",
        "    model.train()\n",
        "    correct, total, running_loss = 0, 0, 0.0\n",
        "\n",
        "    for images, labels in trainloader:\n",
        "        images, labels = images.to(device), labels.to(device)\n",
        "\n",
        "        optimizer.zero_grad()\n",
        "        outputs = model(images)\n",
        "        loss = criterion(outputs, labels)\n",
        "        loss.backward()\n",
        "        optimizer.step()\n",
        "\n",
        "        running_loss += loss.item()\n",
        "        _, predicted = torch.max(outputs.data, 1)\n",
        "        total += labels.size(0)\n",
        "        correct += (predicted == labels).sum().item()\n",
        "\n",
        "    train_acc = 100 * correct / total\n",
        "    train_acc_hist.append(train_acc)\n",
        "\n",
        "    # Validation\n",
        "    model.eval()\n",
        "    correct, total = 0, 0\n",
        "    with torch.no_grad():\n",
        "        for images, labels in testloader:\n",
        "            images, labels = images.to(device), labels.to(device)\n",
        "            outputs = model(images)\n",
        "            _, predicted = torch.max(outputs.data, 1)\n",
        "            total += labels.size(0)\n",
        "            correct += (predicted == labels).sum().item()\n",
        "    val_acc = 100 * correct / total\n",
        "    val_acc_hist.append(val_acc)\n",
        "\n",
        "    print(f\"Epoch [{epoch+1}/{num_epochs}], \"\n",
        "          f\"Train Acc: {train_acc:.2f}%, Val Acc: {val_acc:.2f}%\")"
      ],
      "metadata": {
        "id": "juItQmYfnj-u"
      },
      "id": "juItQmYfnj-u",
      "execution_count": null,
      "outputs": []
    },
    {
      "cell_type": "markdown",
      "source": [
        "#### 5. Plot Results\n"
      ],
      "metadata": {
        "id": "RK2ZI1V6nyBr"
      },
      "id": "RK2ZI1V6nyBr"
    },
    {
      "cell_type": "code",
      "source": [
        "plt.plot(train_acc_hist, label='Train Acc')\n",
        "plt.plot(val_acc_hist, label='Validation Acc')\n",
        "plt.xlabel('Epoch')\n",
        "plt.ylabel('Accuracy (%)')\n",
        "plt.legend()\n",
        "plt.title('ResNet-152 Transfer Learning (CIFAR-10)')\n",
        "plt.show()"
      ],
      "metadata": {
        "id": "JohWveEsnxWB"
      },
      "id": "JohWveEsnxWB",
      "execution_count": null,
      "outputs": []
    }
  ],
  "metadata": {
    "language_info": {
      "name": "python"
    },
    "colab": {
      "provenance": [],
      "gpuType": "T4",
      "include_colab_link": true
    },
    "accelerator": "GPU",
    "kernelspec": {
      "name": "python3",
      "display_name": "Python 3"
    }
  },
  "nbformat": 4,
  "nbformat_minor": 5
}