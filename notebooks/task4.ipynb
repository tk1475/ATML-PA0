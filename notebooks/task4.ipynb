{
  "cells": [
    {
      "cell_type": "markdown",
      "source": [
        "# VAE\n",
        "## 4.1: Training the VAE"
      ],
      "metadata": {
        "id": "fdxWRpTG_8aO"
      },
      "id": "fdxWRpTG_8aO"
    },
    {
      "cell_type": "code",
      "execution_count": 1,
      "id": "6bd984eb",
      "metadata": {
        "id": "6bd984eb"
      },
      "outputs": [],
      "source": [
        "import torch\n",
        "from torch import nn, optim\n",
        "from torchvision import datasets, transforms\n",
        "from torch.utils.data import DataLoader\n",
        "from architecture import VAE"
      ]
    },
    {
      "cell_type": "code",
      "source": [
        "device = torch.device('cuda' if torch.cuda.is_available() else 'cpu')\n",
        "\n",
        "batch_size = 64\n",
        "epochs = 30\n",
        "learning_rate = 1e-3\n",
        "latent_dim = 20\n",
        "\n",
        "# dataset\n",
        "transform = transforms.ToTensor()\n",
        "train_dataset = datasets.FashionMNIST(root='./data', train=True, transform=transform, download=True)\n",
        "test_dataset  = datasets.FashionMNIST(root='./data', train=False, transform=transform, download=True)\n",
        "\n",
        "train_loader = DataLoader(train_dataset, batch_size=batch_size, shuffle=True)\n",
        "test_loader  = DataLoader(test_dataset, batch_size=batch_size, shuffle=False)\n",
        "\n",
        "# model\n",
        "model = VAE(latent_dim=latent_dim).to(device)\n",
        "optimizer = optim.Adam(model.parameters(), lr=learning_rate)\n"
      ],
      "metadata": {
        "id": "aP_Gkw3EAScz",
        "outputId": "354e86b3-b0fd-4607-fae8-14719724dcbb",
        "colab": {
          "base_uri": "https://localhost:8080/"
        }
      },
      "id": "aP_Gkw3EAScz",
      "execution_count": 2,
      "outputs": [
        {
          "output_type": "stream",
          "name": "stderr",
          "text": [
            "100%|██████████| 26.4M/26.4M [00:01<00:00, 15.3MB/s]\n",
            "100%|██████████| 29.5k/29.5k [00:00<00:00, 273kB/s]\n",
            "100%|██████████| 4.42M/4.42M [00:00<00:00, 5.06MB/s]\n",
            "100%|██████████| 5.15k/5.15k [00:00<00:00, 11.4MB/s]\n"
          ]
        }
      ]
    },
    {
      "cell_type": "code",
      "source": [
        "def vae_loss(recon_x, x, mu, logvar):\n",
        "    # Reconstruction loss: MSE\n",
        "    recon_loss = nn.functional.mse_loss(recon_x, x, reduction='sum')\n",
        "    # KL divergence\n",
        "    kl_loss = -0.5 * torch.sum(1 + logvar - mu.pow(2) - logvar.exp())\n",
        "    return recon_loss + kl_loss, recon_loss, kl_loss\n",
        "\n",
        "train_losses, val_losses = [], []\n",
        "\n",
        "for epoch in range(1, epochs+1):\n",
        "    model.train()\n",
        "    train_loss = 0\n",
        "    for x, _ in train_loader:\n",
        "        x = x.to(device)\n",
        "        optimizer.zero_grad()\n",
        "        recon_x, mu, logvar = model(x)\n",
        "        loss, recon_l, kl_l = vae_loss(recon_x, x, mu, logvar)\n",
        "        loss.backward()\n",
        "        optimizer.step()\n",
        "        train_loss += loss.item()\n",
        "    train_losses.append(train_loss / len(train_dataset))\n",
        "\n",
        "    # Validation\n",
        "    model.eval()\n",
        "    val_loss = 0\n",
        "    with torch.no_grad():\n",
        "        for x, _ in test_loader:\n",
        "            x = x.to(device)\n",
        "            recon_x, mu, logvar = model(x)\n",
        "            loss, _, _ = vae_loss(recon_x, x, mu, logvar)\n",
        "            val_loss += loss.item()\n",
        "    val_losses.append(val_loss / len(test_dataset))\n",
        "\n",
        "    print(f\"Epoch [{epoch}/{epochs}] | Train Loss: {train_losses[-1]:.4f} | Val Loss: {val_losses[-1]:.4f}\")\n"
      ],
      "metadata": {
        "id": "OClwQDZrAX6k",
        "outputId": "6c397a68-b1fb-47d3-e03d-b241023bc4a0",
        "colab": {
          "base_uri": "https://localhost:8080/"
        }
      },
      "id": "OClwQDZrAX6k",
      "execution_count": null,
      "outputs": [
        {
          "output_type": "stream",
          "name": "stdout",
          "text": [
            "Epoch [1/30] | Train Loss: 33.1311 | Val Loss: 26.8213\n"
          ]
        }
      ]
    }
  ],
  "metadata": {
    "language_info": {
      "name": "python"
    },
    "colab": {
      "provenance": []
    },
    "kernelspec": {
      "name": "python3",
      "display_name": "Python 3"
    }
  },
  "nbformat": 4,
  "nbformat_minor": 5
}